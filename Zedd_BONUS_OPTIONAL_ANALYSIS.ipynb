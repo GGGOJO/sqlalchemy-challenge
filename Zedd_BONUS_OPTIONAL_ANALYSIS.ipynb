{
 "cells": [
  {
   "cell_type": "markdown",
   "metadata": {},
   "source": [
    "# BONUS: Temperature Analysis I\n",
    "\n",
    "Is there a meaningful difference in temperature, for example, between June and December?"
   ]
  },
  {
   "cell_type": "code",
   "execution_count": 1,
   "metadata": {},
   "outputs": [],
   "source": [
    "# Setup matplotlib libraries and graph style\n",
    "%matplotlib inline\n",
    "from matplotlib import style\n",
    "style.use('fivethirtyeight')\n",
    "import matplotlib.pyplot as plt"
   ]
  },
  {
   "cell_type": "code",
   "execution_count": 2,
   "metadata": {},
   "outputs": [],
   "source": [
    "# Bring in library packages\n",
    "import pandas as pd\n",
    "import numpy as np\n",
    "import datetime as dt"
   ]
  },
  {
   "cell_type": "code",
   "execution_count": 3,
   "metadata": {},
   "outputs": [],
   "source": [
    "# Bring in SQLAlchemy library\n",
    "import sqlalchemy\n",
    "from sqlalchemy.ext.automap import automap_base\n",
    "from sqlalchemy.orm import Session\n",
    "from sqlalchemy import create_engine, func\n",
    "from sqlalchemy import Column, Integer, String, Float"
   ]
  },
  {
   "cell_type": "code",
   "execution_count": 8,
   "metadata": {},
   "outputs": [],
   "source": [
    "# Use SQL Alchemy to create an engine and connect with sqlite database\n",
    "engine = create_engine(\"sqlite:///../Resources/hawaii.sqlite\")"
   ]
  },
  {
   "cell_type": "code",
   "execution_count": 9,
   "metadata": {},
   "outputs": [],
   "source": [
    "# Designate base to reflect the sqlite database into a new model \n",
    "Base = automap_base()\n",
    "\n",
    "# Tell python to use base to reflect the tables\n",
    "Base.prepare(engine, reflect = True)"
   ]
  },
  {
   "cell_type": "code",
   "execution_count": 10,
   "metadata": {},
   "outputs": [
    {
     "data": {
      "text/plain": [
       "['measurement', 'station']"
      ]
     },
     "execution_count": 10,
     "metadata": {},
     "output_type": "execute_result"
    }
   ],
   "source": [
    "# Look at all the classes in the sqlite file\n",
    "Base.classes.keys()"
   ]
  },
  {
   "cell_type": "code",
   "execution_count": 11,
   "metadata": {},
   "outputs": [],
   "source": [
    "# Create and save each class to a table reference. Reflect the sqlite data.\n",
    "Measurement = Base.classes.measurement\n",
    "Station = Base.classes.station\n",
    "\n"
   ]
  },
  {
   "cell_type": "code",
   "execution_count": 12,
   "metadata": {},
   "outputs": [],
   "source": [
    "# Link Python to the database by creating an SQLAlchemy session\n",
    "session = Session(bind=engine)"
   ]
  },
  {
   "cell_type": "markdown",
   "metadata": {},
   "source": [
    "Use Pandas:\n",
    "1. Convert 'date' column from string to datetime\n",
    "2. Set datetime to index\n",
    "3. Drop the 'date' column "
   ]
  },
  {
   "cell_type": "code",
   "execution_count": null,
   "metadata": {},
   "outputs": [],
   "source": [
    "session.query(Measurement.date, pd.to_datetime(df['date'], format(%Y-%m-%d))\n",
    "              \n",
    "df.set_index('date', inplace=False)\n",
    "\n"
   ]
  },
  {
   "cell_type": "code",
   "execution_count": 23,
   "metadata": {},
   "outputs": [
    {
     "name": "stdout",
     "output_type": "stream",
     "text": [
      "74.94411764705882\n"
     ]
    }
   ],
   "source": [
    "from sqlalchemy import extract\n",
    "june_temps = session.query(Measurement).filter(extract('month', Measurement.date) == 6)\n",
    "june_temp_list = [temp.tobs for temp in june_temps]\n",
    "print(np.mean(june_temp_list))\n",
    "\n"
   ]
  },
  {
   "cell_type": "code",
   "execution_count": 24,
   "metadata": {},
   "outputs": [
    {
     "name": "stdout",
     "output_type": "stream",
     "text": [
      "71.04152933421226\n"
     ]
    }
   ],
   "source": [
    "dec_temps = session.query(Measurement).filter(extract('month', Measurement.date) == 12)\n",
    "dec_temp_list = [temp.tobs for temp in dec_temps]\n",
    "print(np.mean(dec_temp_list))"
   ]
  },
  {
   "cell_type": "markdown",
   "metadata": {},
   "source": [
    "### Use t-test to compare the difference in means\n",
    "Would you use paired or unpaired t-test? and Why?\n",
    "ANS. I would use a paired t-test because we are comparing the temperatures of the same stations. Paired t-tests are best for observations on the same group, item or source over time, which is the case of this data."
   ]
  },
  {
   "cell_type": "code",
   "execution_count": 25,
   "metadata": {},
   "outputs": [
    {
     "data": {
      "text/plain": [
       "Ttest_indResult(statistic=31.60372399000329, pvalue=3.9025129038616655e-191)"
      ]
     },
     "execution_count": 25,
     "metadata": {},
     "output_type": "execute_result"
    }
   ],
   "source": [
    "from scipy import stats\n",
    "stats.ttest_ind(june_temp_list, dec_temp_list)"
   ]
  },
  {
   "cell_type": "code",
   "execution_count": null,
   "metadata": {},
   "outputs": [],
   "source": []
  },
  {
   "cell_type": "markdown",
   "metadata": {},
   "source": [
    "# BONUS: Temperature Analysis II\n",
    "Look at historical data for start date: August 1 and end date: August 7\n",
    "\n",
    "The function 'calc_temps' will accept start date and end date and will return the minimum, average, and maximum temperatures for that range.\n"
   ]
  },
  {
   "cell_type": "code",
   "execution_count": 39,
   "metadata": {},
   "outputs": [
    {
     "name": "stdout",
     "output_type": "stream",
     "text": [
      "[(72.0, 79.25, 83.0)]\n"
     ]
    }
   ],
   "source": [
    "def calc_temps(start_date, end_date):\n",
    "    '''TMIN, TAVG, and TMAX for a list of dates\n",
    "    \n",
    "    Args:\n",
    "        start_date (string): A date string in the format %Y-%m-%d\n",
    "        end_date (string): A date string in the format %Y-%m-%d\n",
    "        \n",
    "    Returns:\n",
    "        TMIN, TAVG, TMAX'''\n",
    "        \n",
    "    return session.query(func.min(Measurement.tobs), func.avg(Measurement.tobs), func.max(Measurement.tobs))\\\n",
    "                    .filter(Measurement.date >= start_date)\\\n",
    "                    .filter(Measurement.date <= end_date).all()\n",
    "\n",
    "print(calc_temps('2017-08-01', '2017-08-07'))"
   ]
  },
  {
   "cell_type": "code",
   "execution_count": 37,
   "metadata": {},
   "outputs": [
    {
     "name": "stdout",
     "output_type": "stream",
     "text": [
      "72.0 77.79545454545455 83.0\n"
     ]
    }
   ],
   "source": [
    "# Use your previous function 'calc_temps' to calculate the tmin, tavg, and tmax\n",
    "# for your trip using the previous year's data for those same dates\n",
    "\n",
    "import datetime as dt\n",
    "prev_year_start = dt.date(2017, 8, 1) - dt.timedelta(days=365)\n",
    "prev_year_end = dt.date(2017, 8, 7) - dt.timedelta(days=365)\n",
    "\n",
    "tmin, tavg, tmax = calc_temps(prev_year_start.strftime(\"%Y-%m-%d\"), prev_year_end.strftime(\"%Y-%m-%d\"))[0]\n",
    "print(tmin, tavg, tmax)\n"
   ]
  },
  {
   "cell_type": "code",
   "execution_count": 40,
   "metadata": {},
   "outputs": [
    {
     "name": "stderr",
     "output_type": "stream",
     "text": [
      "<ipython-input-40-c0183bcb0563>:14: UserWarning: Matplotlib is currently using module://ipykernel.pylab.backend_inline, which is a non-GUI backend, so cannot show the figure.\n",
      "  fig.show()\n"
     ]
    },
    {
     "data": {
      "image/png": "[encoded data removed]",
      "text/plain": [
       "<Figure size 288x576 with 1 Axes>"
      ]
     },
     "metadata": {},
     "output_type": "display_data"
    }
   ],
   "source": [
    "# Plot the results from your previous query as a bar chart.\n",
    "# Use \"Trip Avg Temp\" as your Title\n",
    "# Use the average temperature for the y value\n",
    "# Use the peak-to-peak (tmax-tmin) value as the y error bar (yerr)\n",
    "\n",
    "fig, ax = plt.subplots(figsize=plt.figaspect(2.))\n",
    "xpos = 1\n",
    "yerr = tmax-tmin\n",
    "\n",
    "bar = ax.bar(xpos, tmax, yerr=yerr, alpha=0.5, color=\"coral\", align='center')\n",
    "ax.set(xticks=range(xpos), xticklabels=\"a\", title=\"Trip Avg Temp\", ylabel=\"Temp (F)\")\n",
    "ax.margins(.2, .2)\n",
    "fig.tight_layout()\n",
    "fig.show()"
   ]
  },
  {
   "cell_type": "code",
   "execution_count": 41,
   "metadata": {
    "scrolled": true
   },
   "outputs": [
    {
     "name": "stdout",
     "output_type": "stream",
     "text": [
      "[('USC00516128', 'MANOA LYON ARBO 785.2, HI US', 21.3331, -157.8025, 152.4, 1.16), ('USC00518838', 'UPPER WAHIAWA 874.3, HI US', 21.4992, -158.0111, 306.6, 0.26), ('USC00519281', 'WAIHEE 837.5, HI US', 21.45167, -157.84888999999998, 32.9, 0.24), ('USC00513117', 'KANEOHE 838.1, HI US', 21.4234, -157.8015, 14.6, 0.22), ('USC00519523', 'WAIMANALO EXPERIMENTAL FARM, HI US', 21.33556, -157.71139, 19.5, 0.07), ('USC00511918', 'HONOLULU OBSERVATORY 702.2, HI US', 21.3152, -157.9992, 0.9, 0.01), ('USC00519397', 'WAIKIKI 717.2, HI US', 21.2716, -157.8168, 3.0, 0.0), ('USC00514830', 'KUALOA RANCH HEADQUARTERS 886.9, HI US', 21.5213, -157.8374, 7.0, None)]\n"
     ]
    }
   ],
   "source": [
    "# Calculate the total amount of rainfall per weather station for your trip\n",
    "# Sort this in descending order by precipitation amount and list the station\n",
    "start_date = '2012-08-01'\n",
    "end_date = '2012-08-07'\n",
    "\n",
    "sel = [Station.station, Station.name, Station.latitude, Station.longitude, Station.elevation, func.sum(Measurement.prcp)]\n",
    "\n",
    "results = session.query(*sel).\\\n",
    "    filter(Measurement.station == Station.station).\\\n",
    "    filter(Measurement.date >= start_date).\\\n",
    "    filter(Measurement.date <= end_date).\\\n",
    "    group_by(Station.name).\\\n",
    "    order_by(func.sum(Measurement.prcp).\\\n",
    "    desc()).all()\n",
    "\n",
    "print(results)"
   ]
  },
  {
   "cell_type": "markdown",
   "metadata": {},
   "source": [
    "# BONUS:  Daily Rainfall Average"
   ]
  },
  {
   "cell_type": "code",
   "execution_count": 42,
   "metadata": {},
   "outputs": [
    {
     "data": {
      "text/plain": [
       "[(67.0, 75.54, 83.0),\n",
       " (68.0, 75.60377358490567, 84.0),\n",
       " (70.0, 76.61111111111111, 85.0),\n",
       " (69.0, 76.71153846153847, 84.0),\n",
       " (69.0, 76.14814814814815, 82.0),\n",
       " (67.0, 76.25, 83.0),\n",
       " (71.0, 77.15686274509804, 83.0)]"
      ]
     },
     "execution_count": 42,
     "metadata": {},
     "output_type": "execute_result"
    }
   ],
   "source": [
    "# Calculate the daily normals for your trip\n",
    "# push each tuple of calculations into a list called 'normals'\n",
    "\n",
    "#set the start and end date of the trip\n",
    "trip_start = '2017-08-01'\n",
    "trip_end = '2017-08-07'\n",
    "\n",
    "# Use the start and end date to create a range of dates\n",
    "trip_dates = pd.date_range(trip_start, trip_end, freq='D')\n",
    "\n",
    "# Strip off the year and save a list of %m-%d strings\n",
    "trip_month_day = trip_dates.strftime('%m-%d')\n",
    "\n",
    "\n",
    "# Loop through the list of the %m-%d strings and calculate the normals for each\n",
    "normals =[]\n",
    "for date in trip_month_day:\n",
    "    normals.append(*daily_normals(date))\n",
    "normals\n",
    "\n",
    "\n",
    "\n"
   ]
  },
  {
   "cell_type": "code",
   "execution_count": 43,
   "metadata": {},
   "outputs": [
    {
     "data": {
      "text/plain": [
       "[(67.0, 75.54, 83.0)]"
      ]
     },
     "execution_count": 43,
     "metadata": {},
     "output_type": "execute_result"
    }
   ],
   "source": [
    "# Create a query that will calculate the daily normals\n",
    "# (i.e., the averages for tmin, tavg, and tmax for all historical data matching)\n",
    "\n",
    "def daily_normals(date):\n",
    "    '''Daily Normals\n",
    "    \n",
    "    \n",
    "    Args:\n",
    "        date (str): A date string in the format '%m-d'\n",
    "        \n",
    "    Returns:\n",
    "        A list of tuples containing the daily normals, tmin, tavg, and tmax\n",
    "    '''\n",
    "    \n",
    "    sel = [func.min(Measurement.tobs), func.avg(Measurement.tobs), func.max(Measurement.tobs)]\n",
    "    return session.query(*sel).filter(func.strftime(\"%m-%d\", Measurement.date) == date).all()\n",
    "\n",
    "daily_normals(\"08-01\")"
   ]
  },
  {
   "cell_type": "code",
   "execution_count": 44,
   "metadata": {},
   "outputs": [
    {
     "data": {
      "text/html": [
       "<div>\n",
       "<style scoped>\n",
       "    .dataframe tbody tr th:only-of-type {\n",
       "        vertical-align: middle;\n",
       "    }\n",
       "\n",
       "    .dataframe tbody tr th {\n",
       "        vertical-align: top;\n",
       "    }\n",
       "\n",
       "    .dataframe thead th {\n",
       "        text-align: right;\n",
       "    }\n",
       "</style>\n",
       "<table border=\"1\" class=\"dataframe\">\n",
       "  <thead>\n",
       "    <tr style=\"text-align: right;\">\n",
       "      <th></th>\n",
       "      <th>tmin</th>\n",
       "      <th>tavg</th>\n",
       "      <th>tmax</th>\n",
       "    </tr>\n",
       "    <tr>\n",
       "      <th>date</th>\n",
       "      <th></th>\n",
       "      <th></th>\n",
       "      <th></th>\n",
       "    </tr>\n",
       "  </thead>\n",
       "  <tbody>\n",
       "    <tr>\n",
       "      <th>2017-08-01</th>\n",
       "      <td>67.0</td>\n",
       "      <td>75.540000</td>\n",
       "      <td>83.0</td>\n",
       "    </tr>\n",
       "    <tr>\n",
       "      <th>2017-08-02</th>\n",
       "      <td>68.0</td>\n",
       "      <td>75.603774</td>\n",
       "      <td>84.0</td>\n",
       "    </tr>\n",
       "    <tr>\n",
       "      <th>2017-08-03</th>\n",
       "      <td>70.0</td>\n",
       "      <td>76.611111</td>\n",
       "      <td>85.0</td>\n",
       "    </tr>\n",
       "    <tr>\n",
       "      <th>2017-08-04</th>\n",
       "      <td>69.0</td>\n",
       "      <td>76.711538</td>\n",
       "      <td>84.0</td>\n",
       "    </tr>\n",
       "    <tr>\n",
       "      <th>2017-08-05</th>\n",
       "      <td>69.0</td>\n",
       "      <td>76.148148</td>\n",
       "      <td>82.0</td>\n",
       "    </tr>\n",
       "  </tbody>\n",
       "</table>\n",
       "</div>"
      ],
      "text/plain": [
       "            tmin       tavg  tmax\n",
       "date                             \n",
       "2017-08-01  67.0  75.540000  83.0\n",
       "2017-08-02  68.0  75.603774  84.0\n",
       "2017-08-03  70.0  76.611111  85.0\n",
       "2017-08-04  69.0  76.711538  84.0\n",
       "2017-08-05  69.0  76.148148  82.0"
      ]
     },
     "execution_count": 44,
     "metadata": {},
     "output_type": "execute_result"
    }
   ],
   "source": [
    "# Load the previous query results into a Pandas Dataframe\n",
    "df = pd.DataFrame(normals, columns=['tmin', 'tavg', 'tmax'])\n",
    "df['date'] = trip_dates\n",
    "df.set_index(['date'], inplace=True)\n",
    "df.head()"
   ]
  },
  {
   "cell_type": "code",
   "execution_count": 50,
   "metadata": {},
   "outputs": [
    {
     "data": {
      "image/png": "[encoded data removed]",
      "text/plain": [
       "<Figure size 720x432 with 1 Axes>"
      ]
     },
     "metadata": {},
     "output_type": "display_data"
    }
   ],
   "source": [
    "# Plot the daily normals as an area plot with 'stacked=False'\n",
    "df.plot(kind='area', figsize=(10,6), stacked=False, x_compat=True, alpha=.2)\n",
    "plt.ylabel(\"Temperature\")\n",
    "plt.title(\"Daily Avg Rainfall\")\n",
    "plt.tight_layout()\n"
   ]
  },
  {
   "cell_type": "code",
   "execution_count": null,
   "metadata": {},
   "outputs": [],
   "source": []
  }
 ],
 "metadata": {
  "kernelspec": {
   "display_name": "Python 3",
   "language": "python",
   "name": "python3"
  },
  "language_info": {
   "codemirror_mode": {
    "name": "ipython",
    "version": 3
   },
   "file_extension": ".py",
   "mimetype": "text/x-python",
   "name": "python",
   "nbconvert_exporter": "python",
   "pygments_lexer": "ipython3",
   "version": "3.8.5"
  }
 },
 "nbformat": 4,
 "nbformat_minor": 4
}
